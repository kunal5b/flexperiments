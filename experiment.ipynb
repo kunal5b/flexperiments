{
 "cells": [
  {
   "cell_type": "code",
   "execution_count": 2,
   "metadata": {},
   "outputs": [
    {
     "name": "stdout",
     "output_type": "stream",
     "text": [
      "20\n",
      "[5, 0, 4, 1, 9, 2, 1, 3, 1, 4, 3, 5, 3, 6, 1, 7, 2, 8, 6, 9]\n",
      "[6, 1, 5, 2, 0, 3, 2, 4, 2, 5, 4, 6, 4, 7, 2, 8, 3, 9, 7, 0]\n"
     ]
    }
   ],
   "source": [
    "## Label Flipping with attack ratio \n",
    "\n",
    "from typing import Any\n",
    "from dataset import get_mnist, prepare_dataset\n",
    "from attacks import label_flipping_attack \n",
    "from torch.utils.data import RandomSampler, DataLoader, Subset\n",
    "\n",
    "trainset, _ = get_mnist()\n",
    "sample = Subset(trainset, [i for i in range(20)])\n",
    "print(sample.__len__())\n",
    "\n",
    "print([sample.__getitem__(i)[1] for i in range(20)])\n",
    "\n",
    "sample = label_flipping_attack(dataset= sample, num_classes=10)\n",
    "print([sample.__getitem__(i)[1] for i in range(20)])\n"
   ]
  }
 ],
 "metadata": {
  "kernelspec": {
   "display_name": "flower",
   "language": "python",
   "name": "python3"
  },
  "language_info": {
   "codemirror_mode": {
    "name": "ipython",
    "version": 3
   },
   "file_extension": ".py",
   "mimetype": "text/x-python",
   "name": "python",
   "nbconvert_exporter": "python",
   "pygments_lexer": "ipython3",
   "version": "3.8.18"
  }
 },
 "nbformat": 4,
 "nbformat_minor": 2
}
