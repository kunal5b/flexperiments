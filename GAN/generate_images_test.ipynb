{
 "cells": [
  {
   "cell_type": "code",
   "execution_count": 1,
   "metadata": {},
   "outputs": [],
   "source": [
    "import torch\n",
    "import torchvision.utils as vutils\n",
    "from MNIST_GAN import Generator, Hyperparameter"
   ]
  },
  {
   "cell_type": "code",
   "execution_count": 3,
   "metadata": {},
   "outputs": [
    {
     "data": {
      "text/plain": [
       "Generator(\n",
       "  (latent_embedding): Sequential(\n",
       "    (0): Linear(in_features=32, out_features=512, bias=True)\n",
       "  )\n",
       "  (condition_embedding): Sequential(\n",
       "    (0): Linear(in_features=10, out_features=512, bias=True)\n",
       "  )\n",
       "  (tcnn): Sequential(\n",
       "    (0): ConvTranspose2d(1024, 1024, kernel_size=(4, 4), stride=(1, 1))\n",
       "    (1): BatchNorm2d(1024, eps=1e-05, momentum=0.1, affine=True, track_running_stats=True)\n",
       "    (2): ReLU(inplace=True)\n",
       "    (3): ConvTranspose2d(1024, 512, kernel_size=(3, 3), stride=(2, 2), padding=(1, 1))\n",
       "    (4): BatchNorm2d(512, eps=1e-05, momentum=0.1, affine=True, track_running_stats=True)\n",
       "    (5): ReLU(inplace=True)\n",
       "    (6): ConvTranspose2d(512, 256, kernel_size=(4, 4), stride=(2, 2), padding=(1, 1))\n",
       "    (7): BatchNorm2d(256, eps=1e-05, momentum=0.1, affine=True, track_running_stats=True)\n",
       "    (8): ReLU(inplace=True)\n",
       "    (9): ConvTranspose2d(256, 1, kernel_size=(4, 4), stride=(2, 2), padding=(1, 1))\n",
       "    (10): Tanh()\n",
       "  )\n",
       ")"
      ]
     },
     "execution_count": 3,
     "metadata": {},
     "output_type": "execute_result"
    }
   ],
   "source": [
    "hp = Hyperparameter()\n",
    "model = Generator(hp).to(\"cuda\")\n",
    "model.load_state_dict(torch.load(\"generator_50_old_cpu.pth\"))\n",
    "model.eval()"
   ]
  },
  {
   "cell_type": "code",
   "execution_count": 4,
   "metadata": {},
   "outputs": [
    {
     "data": {
      "text/plain": [
       "True"
      ]
     },
     "execution_count": 4,
     "metadata": {},
     "output_type": "execute_result"
    }
   ],
   "source": [
    "next(model.parameters()).is_cuda"
   ]
  },
  {
   "cell_type": "code",
   "execution_count": 3,
   "metadata": {},
   "outputs": [],
   "source": [
    "# def generate_images(generator, hp, num_images, class_labels=None, device='cuda'):\n",
    "#     generator.eval()  # Set the generator to evaluation mode\n",
    "\n",
    "#     all_labels = torch.eye(hp.num_classes, dtype=torch.float32, device=\"cuda\")\n",
    "#     fixed_noise = torch.randn((80, hp.latent_size), device=\"cuda\")\n",
    "#     fixed_class_labels = all_labels[[i for i in list(\n",
    "#         range(hp.num_classes)) for idx in range(8)]]\n",
    "\n",
    "#     with torch.no_grad():\n",
    "#         # Generate fake images\n",
    "#         fake_images = generator(fixed_noise, fixed_class_labels)\n",
    "\n",
    "#     return fake_images, class_labels"
   ]
  },
  {
   "cell_type": "code",
   "execution_count": 5,
   "metadata": {},
   "outputs": [],
   "source": [
    "def generate_samples(generator, hp, num_samples, class_label, device='cuda'):\n",
    "    generator.eval()  # Set the generator to evaluation mode\n",
    "    \n",
    "    # One-hot encode the given class label\n",
    "    class_labels = torch.eye(hp.num_classes, dtype=torch.float32, device=device)[class_label].unsqueeze(0).repeat(num_samples, 1)\n",
    "    \n",
    "    # Generate random noise\n",
    "    fixed_noise = torch.randn((num_samples, hp.latent_size), device=device)\n",
    "    \n",
    "    with torch.no_grad():\n",
    "        # Generate fake images\n",
    "        fake_images = generator(fixed_noise, class_labels)\n",
    "    return fake_images\n",
    "    "
   ]
  },
  {
   "cell_type": "code",
   "execution_count": 6,
   "metadata": {},
   "outputs": [],
   "source": [
    "# Assuming 'generator' is the trained generator model\n",
    "# fake_images, class_labels = generate_images(model,hp, 5) \n",
    "\n",
    "fake_images = generate_samples(generator=model, hp=hp, num_samples=5, class_label=9)\n",
    "\n",
    "# Save the generated images\n",
    "for i in range(len(fake_images)):\n",
    "    vutils.save_image(fake_images[i], f'generated_images/{i}.png')\n",
    "\n",
    "# Optionally, you can also save the class labels for each image\n",
    "# torch.save(class_labels, 'generated_images/class_labels.pth')\n",
    "# fake_images[0]"
   ]
  },
  {
   "cell_type": "code",
   "execution_count": 7,
   "metadata": {},
   "outputs": [
    {
     "data": {
      "text/plain": [
       "True"
      ]
     },
     "execution_count": 7,
     "metadata": {},
     "output_type": "execute_result"
    }
   ],
   "source": [
    "fake_images[0].is_cuda"
   ]
  }
 ],
 "metadata": {
  "kernelspec": {
   "display_name": "flower",
   "language": "python",
   "name": "python3"
  },
  "language_info": {
   "codemirror_mode": {
    "name": "ipython",
    "version": 3
   },
   "file_extension": ".py",
   "mimetype": "text/x-python",
   "name": "python",
   "nbconvert_exporter": "python",
   "pygments_lexer": "ipython3",
   "version": "3.8.18"
  }
 },
 "nbformat": 4,
 "nbformat_minor": 2
}
