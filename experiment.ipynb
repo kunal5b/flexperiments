{
 "cells": [
  {
   "cell_type": "markdown",
   "metadata": {},
   "source": [
    "Testing label flipping attack "
   ]
  },
  {
   "cell_type": "code",
   "execution_count": null,
   "metadata": {},
   "outputs": [],
   "source": [
    "## Label Flipping with attack ratio \n",
    "\n",
    "from typing import Any\n",
    "from dataset import get_mnist, prepare_dataset\n",
    "from attacks import label_flipping_attack \n",
    "from torch.utils.data import RandomSampler, DataLoader, Subset\n",
    "\n",
    "trainset, _ = get_mnist()\n",
    "\n",
    "sample = Subset(trainset, [i for i in range(20)])\n",
    "print(sample.__len__())\n",
    "\n",
    "print([sample.__getitem__(i)[1] for i in range(20)])\n",
    "\n",
    "sample = label_flipping_attack(dataset= sample, num_classes=10)\n",
    "print([sample.__getitem__(i)[1] for i in range(20)])\n"
   ]
  },
  {
   "cell_type": "markdown",
   "metadata": {},
   "source": [
    "The following code demonstrates how to reshape data for logistic regression "
   ]
  },
  {
   "cell_type": "code",
   "execution_count": 1,
   "metadata": {},
   "outputs": [
    {
     "name": "stdout",
     "output_type": "stream",
     "text": [
      "Downloading http://yann.lecun.com/exdb/mnist/train-images-idx3-ubyte.gz\n",
      "Downloading http://yann.lecun.com/exdb/mnist/train-images-idx3-ubyte.gz to ./data\\MNIST\\raw\\train-images-idx3-ubyte.gz\n"
     ]
    },
    {
     "name": "stderr",
     "output_type": "stream",
     "text": [
      "100%|██████████| 9912422/9912422 [00:00<00:00, 38704027.24it/s]\n"
     ]
    },
    {
     "name": "stdout",
     "output_type": "stream",
     "text": [
      "Extracting ./data\\MNIST\\raw\\train-images-idx3-ubyte.gz to ./data\\MNIST\\raw\n",
      "\n",
      "Downloading http://yann.lecun.com/exdb/mnist/train-labels-idx1-ubyte.gz\n",
      "Downloading http://yann.lecun.com/exdb/mnist/train-labels-idx1-ubyte.gz to ./data\\MNIST\\raw\\train-labels-idx1-ubyte.gz\n"
     ]
    },
    {
     "name": "stderr",
     "output_type": "stream",
     "text": [
      "100%|██████████| 28881/28881 [00:00<00:00, 4790812.49it/s]"
     ]
    },
    {
     "name": "stdout",
     "output_type": "stream",
     "text": [
      "Extracting ./data\\MNIST\\raw\\train-labels-idx1-ubyte.gz to ./data\\MNIST\\raw\n"
     ]
    },
    {
     "name": "stderr",
     "output_type": "stream",
     "text": [
      "\n"
     ]
    },
    {
     "name": "stdout",
     "output_type": "stream",
     "text": [
      "\n",
      "Downloading http://yann.lecun.com/exdb/mnist/t10k-images-idx3-ubyte.gz\n",
      "Downloading http://yann.lecun.com/exdb/mnist/t10k-images-idx3-ubyte.gz to ./data\\MNIST\\raw\\t10k-images-idx3-ubyte.gz\n"
     ]
    },
    {
     "name": "stderr",
     "output_type": "stream",
     "text": [
      "100%|██████████| 1648877/1648877 [00:00<00:00, 14180713.43it/s]\n"
     ]
    },
    {
     "name": "stdout",
     "output_type": "stream",
     "text": [
      "Extracting ./data\\MNIST\\raw\\t10k-images-idx3-ubyte.gz to ./data\\MNIST\\raw\n",
      "\n",
      "Downloading http://yann.lecun.com/exdb/mnist/t10k-labels-idx1-ubyte.gz\n",
      "Downloading http://yann.lecun.com/exdb/mnist/t10k-labels-idx1-ubyte.gz to ./data\\MNIST\\raw\\t10k-labels-idx1-ubyte.gz\n"
     ]
    },
    {
     "name": "stderr",
     "output_type": "stream",
     "text": [
      "100%|██████████| 4542/4542 [00:00<?, ?it/s]\n"
     ]
    },
    {
     "name": "stdout",
     "output_type": "stream",
     "text": [
      "Extracting ./data\\MNIST\\raw\\t10k-labels-idx1-ubyte.gz to ./data\\MNIST\\raw\n",
      "\n",
      "(784,)\n",
      "()\n",
      "<class 'numpy.ndarray'> <class 'numpy.ndarray'>\n"
     ]
    }
   ],
   "source": [
    "## Label Flipping with attack ratio \n",
    "\n",
    "from typing import Any\n",
    "from dataset import get_mnist, prepare_dataset\n",
    "from attacks import label_flipping_attack \n",
    "from torch.utils.data import RandomSampler, DataLoader, Subset\n",
    "import numpy as np\n",
    "\n",
    "trainset, _ = get_mnist()\n",
    "\n",
    "sample = Subset(trainset, [i for i in range(200)])\n",
    "# print(sample.__len__())\n",
    "\n",
    "# print([sample.__getitem__(i)[1] for i in range(20)])\n",
    "\n",
    "# sample = label_flipping_attack(dataset= sample, num_classes=10)\n",
    "# print([sample.__getitem__(i)[1] for i in range(20)])\n",
    "# trainset.data\n",
    "# sample\n",
    "trainloader = DataLoader(sample, batch_size=20, shuffle=True, num_workers=2)\n",
    "data_list = []\n",
    "labels_list = []\n",
    "\n",
    "for batch_data, batch_labels in trainloader:\n",
    "    batch_data_flat = batch_data.view(batch_data.size(0), -1)\n",
    "    data_list.append(batch_data_flat.numpy())  # Assuming your data is in tensor format\n",
    "    labels_list.append(batch_labels.numpy())\n",
    "\n",
    "# Concatenate the lists to obtain NumPy arrays\n",
    "X = np.concatenate(data_list, axis=0)\n",
    "y = np.concatenate(labels_list, axis=0)\n",
    "print(X[0].shape)\n",
    "print(y[0].shape)\n",
    "print(type(X), type(y))"
   ]
  }
 ],
 "metadata": {
  "kernelspec": {
   "display_name": "flower",
   "language": "python",
   "name": "python3"
  },
  "language_info": {
   "codemirror_mode": {
    "name": "ipython",
    "version": 3
   },
   "file_extension": ".py",
   "mimetype": "text/x-python",
   "name": "python",
   "nbconvert_exporter": "python",
   "pygments_lexer": "ipython3",
   "version": "3.8.18"
  }
 },
 "nbformat": 4,
 "nbformat_minor": 2
}
